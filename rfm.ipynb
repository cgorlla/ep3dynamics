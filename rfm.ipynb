{
 "cells": [
  {
   "cell_type": "code",
   "execution_count": null,
   "id": "d403304c",
   "metadata": {},
   "outputs": [],
   "source": [
    "from eigenpro3.utils import accuracy, load_dataset\n",
    "import eigenpro_rfm as rfm\n",
    "import torch\n",
    "import torchvision\n",
    "import torchvision.transforms as transforms\n",
    "import os"
   ]
  },
  {
   "cell_type": "code",
   "execution_count": null,
   "id": "42204f9a",
   "metadata": {},
   "outputs": [],
   "source": [
    "# set data path\n",
    "def set_data_path():\n",
    "    return \"./download\"\n",
    "#     raise NotImplementedError\n",
    "\n",
    "os.environ['DATA_DIR'] = './download'"
   ]
  },
  {
   "cell_type": "code",
   "execution_count": null,
   "id": "fda529c2",
   "metadata": {},
   "outputs": [],
   "source": [
    "def pre_process(torchset,n_samples,num_classes=10):\n",
    "    indices = list(np.random.choice(len(torchset),n_samples))\n",
    "\n",
    "    train_X = []\n",
    "    train_y = []\n",
    "    for ix in indices:\n",
    "        x,y = torchset[ix]\n",
    "        ohe_y = torch.zeros(num_classes)\n",
    "        ohe_y[y] = 1\n",
    "        train_X.append((np.array(x/np.linalg.norm(x)).reshape(-1)))\n",
    "        train_y.append(np.array(ohe_y))\n",
    "    return train_X, train_y"
   ]
  },
  {
   "cell_type": "code",
   "execution_count": null,
   "id": "ddc55b11",
   "metadata": {},
   "outputs": [],
   "source": [
    "# load CIFAR data\n",
    "transform = transforms.Compose([\n",
    "    transforms.ToTensor()\n",
    "])\n",
    "\n",
    "data_path = set_data_path() ## set this data path\n",
    "\n",
    "trainset0 = torchvision.datasets.CIFAR10(root=data_path,\n",
    "                                    train=True,\n",
    "                                    transform=transform,\n",
    "                                    download=True)\n",
    "testset0 = torchvision.datasets.CIFAR10(root=data_path,\n",
    "                                    transform=transform,\n",
    "                                    download=True)\n",
    "\n",
    "X_train, y_train = pre_process(trainset0,n_samples=5000, num_classes=10)\n",
    "\n",
    "\n",
    "X_test, y_test = pre_process(testset0,n_samples=5000, num_classes=10)"
   ]
  },
  {
   "cell_type": "code",
   "execution_count": null,
   "id": "70c435fc",
   "metadata": {},
   "outputs": [],
   "source": [
    "evs = []"
   ]
  },
  {
   "cell_type": "code",
   "execution_count": null,
   "id": "49db72f4",
   "metadata": {
    "scrolled": false
   },
   "outputs": [],
   "source": [
    "for num in [1,2,3,4,5]:\n",
    "    res = rfm.hyperparam_train(np.array(X_train),np.array(y_train, dtype='int'),np.array(X_test),np.array(y_test, dtype='int'), c=10, iters = num)\n",
    "    print('Running %d iterations \\nAccuracy: %f'%(num,res[0]))\n",
    "    evs.append(res[4])"
   ]
  }
 ],
 "metadata": {
  "kernelspec": {
   "display_name": "Python 3 (ipykernel)",
   "language": "python",
   "name": "python3"
  },
  "language_info": {
   "codemirror_mode": {
    "name": "ipython",
    "version": 3
   },
   "file_extension": ".py",
   "mimetype": "text/x-python",
   "name": "python",
   "nbconvert_exporter": "python",
   "pygments_lexer": "ipython3",
   "version": "3.8.8"
  }
 },
 "nbformat": 4,
 "nbformat_minor": 5
}
