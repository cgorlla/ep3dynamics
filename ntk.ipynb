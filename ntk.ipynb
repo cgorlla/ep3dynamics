{
 "cells": [
  {
   "cell_type": "code",
   "execution_count": 1,
   "id": "935c0af0",
   "metadata": {},
   "outputs": [],
   "source": [
    "import torch\n",
    "from eigenpro3.utils import accuracy, load_dataset\n",
    "from eigenpro3.datasets import CustomDataset\n",
    "from eigenpro3.models import KernelModel\n",
    "from eigenpro3.kernels import ntk_relu\n",
    "import os"
   ]
  },
  {
   "cell_type": "code",
   "execution_count": null,
   "id": "2e6f0308",
   "metadata": {},
   "outputs": [],
   "source": [
    "from torchvision.datasets import CIFAR10\n",
    "os.environ['DATA_DIR'] = './download'\n",
    "CIFAR10(os.environ['DATA_DIR'], train=True, download=True)"
   ]
  },
  {
   "cell_type": "code",
   "execution_count": 4,
   "id": "bcfd0a6e",
   "metadata": {},
   "outputs": [],
   "source": [
    "p = 5000 # model size\n",
    "\n",
    "if torch.cuda.is_available():\n",
    "    DEVICES = [torch.device(f'cuda:{i}') for i in range(torch.cuda.device_count())]\n",
    "else:\n",
    "    DEVICES = [torch.device('cpu')]"
   ]
  },
  {
   "cell_type": "code",
   "execution_count": 5,
   "id": "b4148626",
   "metadata": {},
   "outputs": [],
   "source": [
    "evs = []\n",
    "epochs = [1,2,5,10,15,20]"
   ]
  },
  {
   "cell_type": "code",
   "execution_count": null,
   "id": "0582d448",
   "metadata": {
    "scrolled": true
   },
   "outputs": [],
   "source": [
    "for num in epochs:\n",
    "    \n",
    "    kernel_fn = lambda x, z: ntk_relu(x, z, depth=2)\n",
    "\n",
    "    n_classes, (X_train, y_train), (X_test, y_test) = load_dataset('cifar10')\n",
    "\n",
    "    centers = X_train[torch.randperm(X_train.shape[0])[:p]]\n",
    "\n",
    "    testloader = torch.utils.data.DataLoader(\n",
    "        CustomDataset(X_test, y_test.argmax(-1)), batch_size=512,\n",
    "        shuffle=False, pin_memory=True)\n",
    "\n",
    "    model = KernelModel(n_classes, centers, kernel_fn, X=X_train, y=y_train, devices=DEVICES)\n",
    "    model.fit(model.train_loaders, testloader, score_fn=accuracy, epochs=num)\n",
    "    evs.append(model.eigenvectors_data)"
   ]
  }
 ],
 "metadata": {
  "kernelspec": {
   "display_name": "Python 3 (ipykernel)",
   "language": "python",
   "name": "python3"
  },
  "language_info": {
   "codemirror_mode": {
    "name": "ipython",
    "version": 3
   },
   "file_extension": ".py",
   "mimetype": "text/x-python",
   "name": "python",
   "nbconvert_exporter": "python",
   "pygments_lexer": "ipython3",
   "version": "3.8.8"
  }
 },
 "nbformat": 4,
 "nbformat_minor": 5
}
